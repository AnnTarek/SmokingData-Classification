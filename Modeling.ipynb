{
 "cells": [
  {
   "cell_type": "code",
   "execution_count": 13,
   "metadata": {},
   "outputs": [],
   "source": [
    "import pandas as pd\n",
    "import numpy as np\n",
    "from sklearn.model_selection import train_test_split\n",
    "import math\n",
    "import useful_functions\n",
    "from sklearn.datasets import make_regression\n",
    "from sklearn.model_selection import cross_val_score\n",
    "from skopt import BayesSearchCV\n"
   ]
  },
  {
   "cell_type": "code",
   "execution_count": 2,
   "metadata": {},
   "outputs": [],
   "source": [
    "#Reading Data\n",
    "train_df = useful_functions.get_normalized_train()\n",
    "val_df = useful_functions.get_normalized_val()\n",
    "test_df = useful_functions.get_normalized_test()\n",
    "\n",
    "X_train = train_df.drop(columns=['smoking']).to_numpy()\n",
    "y_train = train_df['smoking'].to_numpy()\n",
    "\n",
    "X_val = val_df.drop(columns=['smoking']).to_numpy()\n",
    "y_val = val_df['smoking'].to_numpy()\n",
    "\n",
    "X_test = test_df.drop(columns=['smoking']).to_numpy()\n",
    "y_test = test_df['smoking'].to_numpy()"
   ]
  },
  {
   "cell_type": "markdown",
   "metadata": {},
   "source": [
    "## **Boosting**"
   ]
  },
  {
   "cell_type": "markdown",
   "metadata": {},
   "source": [
    "### Adaboost With Decision Stumps"
   ]
  },
  {
   "cell_type": "code",
   "execution_count": 3,
   "metadata": {},
   "outputs": [],
   "source": [
    "from sklearn.tree import DecisionTreeClassifier\n",
    "from sklearn.linear_model import LogisticRegression\n",
    "from sklearn.base import BaseEstimator\n",
    "from sklearn.tree import DecisionTreeClassifier\n",
    "\n",
    "class MyAdaBoostTree(BaseEstimator):\n",
    "    def __init__(self, num_iterations=10, max_tree_height = 1):\n",
    "        self.num_iterations = num_iterations\n",
    "        self.max_tree_height = max_tree_height\n",
    "\n",
    "    def train(self, X, y):\n",
    "        return self.fit(X,y)\n",
    "\n",
    "    def fit(self, X, y):\n",
    "        num_samples = X.shape[0]\n",
    "        self.alphas__ = []\n",
    "        self.models__ = []\n",
    "        sample_weights = np.ones((num_samples))/num_samples\n",
    "        for iteration in range(self.num_iterations):\n",
    "            weak_learner = DecisionTreeClassifier(criterion='gini', max_depth=self.max_tree_height)\n",
    "            weak_learner.fit(X, y, sample_weight=sample_weights)\n",
    "\n",
    "            sample_predictions = weak_learner.predict(X)\n",
    "            incorrect = (sample_predictions != y)*1 #Multiply by 1 to convert True/False to 1/0\n",
    "            weighted_error = np.multiply(incorrect, sample_weights).sum()  / sample_weights.sum()\n",
    "            alpha = (0.5) * math.log((1-weighted_error) / weighted_error)\n",
    "            \n",
    "            #Add Model and Alpha to Ensemble\n",
    "            self.alphas__.append(alpha)\n",
    "            self.models__.append(weak_learner)\n",
    "            \n",
    "            #Update Weights\n",
    "            sample_weights = np.multiply(sample_weights, np.exp(2*alpha*incorrect))\n",
    "            sample_weights = sample_weights / sample_weights.sum()\n",
    "    \n",
    "    def predict(self, X):\n",
    "        sum_predictions = np.zeros(X.shape[0])\n",
    "        for idx, model in enumerate(self.models__):\n",
    "            prediction = model.predict(X)\n",
    "            sum_predictions += self.alphas__[idx] * np.where(prediction == 0, -1, prediction)  #np.where used to replace 0s with -1s      \n",
    "        return np.where(sum_predictions >= 0, 1, 0)\n",
    "    \n",
    "\n",
    "    def score(self, X, y):\n",
    "        prediction = self.predict(X)\n",
    "        return (prediction == y).sum()/  X.shape[0] \n",
    "\n",
    "    def best_score_(self):\n",
    "        return self"
   ]
  },
  {
   "cell_type": "markdown",
   "metadata": {},
   "source": [
    "### Adaboost With Logistic Regression"
   ]
  },
  {
   "cell_type": "code",
   "execution_count": 4,
   "metadata": {},
   "outputs": [],
   "source": [
    "class MyAdaBoostLogistic(BaseEstimator):\n",
    "    def __init__(self, num_iterations=10):\n",
    "        self.num_iterations = num_iterations\n",
    "\n",
    "    def fit(self, X, y):\n",
    "        num_samples = X.shape[0]\n",
    "        self.alphas_ = []\n",
    "        self.models_ = []\n",
    "        sample_weights = np.ones((num_samples))/num_samples\n",
    "        for iteration in range(self.num_iterations):\n",
    "            weak_learner = LogisticRegression()\n",
    "            weak_learner.fit(X, y, sample_weight=sample_weights)\n",
    "\n",
    "            sample_predictions = weak_learner.predict(X)\n",
    "            incorrect = (sample_predictions != y)*1 #Multiply by 1 to convert True/False to 1/0\n",
    "            weighted_error = np.multiply(incorrect, sample_weights).sum()  / sample_weights.sum()\n",
    "            alpha = (0.5) * math.log((1-weighted_error) / weighted_error)\n",
    "            \n",
    "            #Add Model and Alpha to Ensemble\n",
    "            self.alphas_.append(alpha)\n",
    "            self.models_.append(weak_learner)\n",
    "            \n",
    "            #Update Weights\n",
    "            sample_weights = np.multiply(sample_weights, np.exp(2*alpha*incorrect))\n",
    "            sample_weights = sample_weights / sample_weights.sum()\n",
    "    \n",
    "    def predict(self, X):\n",
    "        sum_predictions = np.zeros(X.shape[0])\n",
    "        for idx, model in enumerate(self.models_):\n",
    "            prediction = model.predict(X)\n",
    "            sum_predictions += self.alphas_[idx] * np.where(prediction == 0, -1, prediction)        \n",
    "        return np.where(sum_predictions >= 0, 1, 0)\n",
    "    \n",
    "\n",
    "    def score(self, X, y):\n",
    "        prediction = self.predict(X)\n",
    "        return (prediction == y).sum()/ X.shape[0]  \n",
    "    \n",
    "\n",
    "    def score(self, X, y):\n",
    "        prediction = self.predict(X)\n",
    "        return (prediction == y).sum()/ X.shape[0]  "
   ]
  },
  {
   "cell_type": "markdown",
   "metadata": {},
   "source": [
    "## **Random Forest**"
   ]
  },
  {
   "cell_type": "code",
   "execution_count": 5,
   "metadata": {},
   "outputs": [],
   "source": [
    "from sklearn.tree import DecisionTreeClassifier\n",
    "from sklearn.base import BaseEstimator\n",
    "from collections import Counter\n",
    "\n",
    "class MyRandomForest(BaseEstimator):\n",
    "    def __init__(self, num_trees=10, max_height=5, max_features=5):\n",
    "        self.num_trees = num_trees\n",
    "        self.max_height = max_height\n",
    "        self.max_features = max_features\n",
    "        \n",
    "    def fit(self, X, y):\n",
    "        self.trees_ = [] \n",
    "        num_samples = X.shape[0]       \n",
    "        for i in range(self.num_trees):\n",
    "            samples = np.random.choice(num_samples, size=num_samples, replace=True)\n",
    "            sampled_X = X[samples]\n",
    "            sampled_Y = y[samples]\n",
    "            tree = DecisionTreeClassifier(max_depth=self.max_height, max_features=self.max_features)\n",
    "            tree.fit(sampled_X, sampled_Y)\n",
    "            self.trees_.append(tree)\n",
    "\n",
    "\n",
    "    def predict(self, X):\n",
    "        predictions = np.array([tree.predict(X) for tree in self.trees_])     \n",
    "        mode_predictions =np.apply_along_axis(lambda x: Counter(x).most_common(1)[0][0], axis=0, arr=predictions)\n",
    "        return mode_predictions\n",
    "    \n",
    "\n",
    "    def score(self, X, y):\n",
    "        prediction = self.predict(X)\n",
    "        return (prediction == y).sum()/  X.shape[0]   \n",
    "    \n",
    "    def train(self, X, y):\n",
    "        return self.fit(X, y)"
   ]
  },
  {
   "cell_type": "markdown",
   "metadata": {},
   "source": [
    "## **Bagging**"
   ]
  },
  {
   "cell_type": "markdown",
   "metadata": {},
   "source": [
    "### Bagging With Decision Trees"
   ]
  },
  {
   "cell_type": "code",
   "execution_count": 6,
   "metadata": {},
   "outputs": [],
   "source": [
    "## Implementing Bagging from scratch\n",
    "from collections import Counter\n",
    "from sklearn.base import BaseEstimator\n",
    "\n",
    "class MyBagging(BaseEstimator):\n",
    "    def __init__(self, num_trees=10, max_height=5):\n",
    "        self.num_trees = num_trees\n",
    "        self.max_height = max_height    \n",
    "\n",
    "    def fit(self, X, y):\n",
    "        self.trees = []\n",
    "        num_samples  = X.shape[0]        \n",
    "        for i in range(self.num_trees):\n",
    "            samples = np.random.choice(num_samples, size=num_samples, replace=True)\n",
    "            sampled_X = X[samples]\n",
    "            sampled_Y = y[samples]\n",
    "            tree = DecisionTreeClassifier(max_depth=self.max_height)\n",
    "            tree.fit(sampled_X, sampled_Y)\n",
    "            self.trees.append(tree)\n",
    "\n",
    "    # calculate the prediction of each tree and return the maximum voted prediction\n",
    "    def predict(self, X):\n",
    "        predictions = np.array([tree.predict(X) for tree in self.trees])\n",
    "        mode_predictions =np.apply_along_axis(lambda x: Counter(x).most_common(1)[0][0], axis=0, arr=predictions)\n",
    "        return mode_predictions\n",
    "    \n",
    "    def score(self, X, y):\n",
    "        prediction = self.predict(X)\n",
    "        return (prediction == y).sum()/  X.shape[0]\n",
    "    \n",
    "    def train(self, X, y):\n",
    "        return self.fit(X, y)\n",
    "    \n"
   ]
  },
  {
   "cell_type": "markdown",
   "metadata": {},
   "source": [
    "### Bagging with KNN"
   ]
  },
  {
   "cell_type": "code",
   "execution_count": 7,
   "metadata": {},
   "outputs": [],
   "source": [
    "## Bagging using KNN from scratch\n",
    "from sklearn.neighbors import KNeighborsClassifier\n",
    "\n",
    "class MyBaggingKNN(BaseEstimator):\n",
    "    def __init__(self, num_models=10, k=3):\n",
    "        self.num_models = num_models\n",
    "        self.k = k\n",
    "\n",
    "    def fit(self, X_train, y_train):\n",
    "        self.models = []\n",
    "        num_samples  = X_train.shape[0]        \n",
    "        for i in range(self.num_models):\n",
    "            samples = np.random.choice(num_samples, size=num_samples, replace=True)\n",
    "            sampled_X = X_train[samples]\n",
    "            sampled_Y = y_train[samples]\n",
    "            model = KNeighborsClassifier(n_neighbors=self.k)\n",
    "            model.fit(sampled_X, sampled_Y)\n",
    "            self.models.append(model)\n",
    "\n",
    "\n",
    "    def predict(self, X):\n",
    "        predictions = np.array([model.predict(X) for model in self.models])\n",
    "        mode_predictions =np.apply_along_axis(lambda x: Counter(x).most_common(1)[0][0], axis=0, arr=predictions)\n",
    "        return mode_predictions\n",
    "    \n",
    "\n",
    "    def score(self, X, y):\n",
    "        prediction = self.predict(X)\n",
    "        return (prediction == y).sum()/  X.shape[0]\n",
    "    \n",
    "\n",
    "    def train(self, X, y):\n",
    "        return self.fit(X,y)\n"
   ]
  },
  {
   "cell_type": "markdown",
   "metadata": {},
   "source": [
    "## **Hyperparameter tuning**"
   ]
  },
  {
   "cell_type": "markdown",
   "metadata": {},
   "source": [
    "### Grid Search From Scratch (With Threads)"
   ]
  },
  {
   "cell_type": "code",
   "execution_count": 8,
   "metadata": {},
   "outputs": [],
   "source": [
    "# Implementing Grid Search from scratch using threads\n",
    "from sklearn.model_selection import ParameterGrid\n",
    "from threading import Thread\n",
    "\n",
    "\n",
    "class MyGridSearch():\n",
    "    def __init__(self, model, params, cv):\n",
    "        self.model = model\n",
    "        self.params = params\n",
    "        self.cv = cv\n",
    "        self.best_model = None\n",
    "        self.best_score = 0\n",
    "        self.best_params = None\n",
    "        self.predictions = []\n",
    "\n",
    "    def worker(self,model, X_train, y_train, X_val, y_val):\n",
    "        print(f\"size of X_train: {X_train.shape}\")\n",
    "        print(f\"size of X_val: {X_val.shape}\")\n",
    "        model.train(X_train, y_train)\n",
    "        self.predictions.append((model.score(X_val, y_val), model.get_params()))\n",
    "\n",
    "    def grid_search(self):\n",
    "        parameters_grid = ParameterGrid(self.params)\n",
    "        number_of_models = len(parameters_grid)\n",
    "        print(f\"Number of models: {number_of_models}\")\n",
    "        for i in range(number_of_models):\n",
    "            # set the parameters for the model\n",
    "            self.model.set_params(**parameters_grid[i])\n",
    "            # Create a thread for each model\n",
    "            training_ratio = (self.cv - 1)  / self.cv\n",
    "            X_train_new, X_val_new, y_train_new, y_val_new = train_test_split(X_train, y_train, train_size=training_ratio, random_state=42)\n",
    "            t = Thread(target=self.worker, args=(self.model, X_train_new, y_train_new, X_val_new, y_val_new))\n",
    "            t.start()\n",
    "            t.join()\n",
    "        return max(self.predictions)\n",
    "            \n"
   ]
  },
  {
   "cell_type": "code",
   "execution_count": 9,
   "metadata": {},
   "outputs": [
    {
     "name": "stdout",
     "output_type": "stream",
     "text": [
      "Number of models: 5\n",
      "size of X_train: (98260, 8)\n",
      "size of X_val: (24565, 8)\n",
      "size of X_train: (98260, 8)\n",
      "size of X_val: (24565, 8)\n",
      "size of X_train: (98260, 8)\n",
      "size of X_val: (24565, 8)\n",
      "size of X_train: (98260, 8)\n",
      "size of X_val: (24565, 8)\n",
      "size of X_train: (98260, 8)\n",
      "size of X_val: (24565, 8)\n",
      "(0.7375127213515164, {'max_tree_height': 1, 'num_iterations': 50})\n"
     ]
    }
   ],
   "source": [
    "adaboost = MyAdaBoostTree(num_iterations= 100)\n",
    "clf = MyGridSearch(adaboost, {\"num_iterations\": [10, 20, 30, 40, 50]}, 5)\n",
    "print(clf.grid_search())\n",
    "\n",
    "#randomForest = MyRandomForest(num_trees=50, max_height=12, max_features=3, num_samples=num_samples)\n",
    "#clf = MyGridSearch(randomForest, {\"num_trees\": [10, 20, 30, 40, 50]}, 5)\n",
    "#print(clf.grid_search())\n",
    "\n",
    "#bagging = MyBagging(num_trees=10, max_height=12, max_features=3)\n",
    "#clf = MyGridSearch(bagging, {\"num_trees\": [10, 20, 30, 40, 50]}, 5)\n",
    "#print(clf.grid_search())\n"
   ]
  },
  {
   "cell_type": "code",
   "execution_count": 10,
   "metadata": {},
   "outputs": [
    {
     "ename": "NameError",
     "evalue": "name 'num_samples' is not defined",
     "output_type": "error",
     "traceback": [
      "\u001b[0;31m---------------------------------------------------------------------------\u001b[0m",
      "\u001b[0;31mNameError\u001b[0m                                 Traceback (most recent call last)",
      "Cell \u001b[0;32mIn[10], line 5\u001b[0m\n\u001b[1;32m      2\u001b[0m \u001b[38;5;28;01mfrom\u001b[39;00m \u001b[38;5;21;01msklearn\u001b[39;00m\u001b[38;5;21;01m.\u001b[39;00m\u001b[38;5;21;01mmodel_selection\u001b[39;00m \u001b[38;5;28;01mimport\u001b[39;00m GridSearchCV\n\u001b[1;32m      4\u001b[0m \u001b[38;5;66;03m# Grid Search for Boosting\u001b[39;00m\n\u001b[0;32m----> 5\u001b[0m adaboost \u001b[38;5;241m=\u001b[39m MyAdaBoostTree(\u001b[43mnum_samples\u001b[49m, num_features)\n\u001b[1;32m      6\u001b[0m parameters \u001b[38;5;241m=\u001b[39m {\u001b[38;5;124m'\u001b[39m\u001b[38;5;124mnum_iterations\u001b[39m\u001b[38;5;124m'\u001b[39m: [\u001b[38;5;241m10\u001b[39m, \u001b[38;5;241m20\u001b[39m, \u001b[38;5;241m50\u001b[39m, \u001b[38;5;241m100\u001b[39m, \u001b[38;5;241m200\u001b[39m, \u001b[38;5;241m300\u001b[39m, \u001b[38;5;241m400\u001b[39m, \u001b[38;5;241m500\u001b[39m]}\n\u001b[1;32m      7\u001b[0m cv\u001b[38;5;241m=\u001b[39m\u001b[38;5;241m5\u001b[39m\n",
      "\u001b[0;31mNameError\u001b[0m: name 'num_samples' is not defined"
     ]
    }
   ],
   "source": [
    "# Hyperparameter Tuning using Grid Search\n",
    "from sklearn.model_selection import GridSearchCV\n",
    "\n",
    "# Grid Search for Boosting\n",
    "adaboost = MyAdaBoostTree(num_samples, num_features)\n",
    "parameters = {'num_iterations': [10, 20, 50, 100, 200, 300, 400, 500]}\n",
    "cv=5\n",
    "clf = MyGridSearch(adaboost, parameters, cv=cv)\n",
    "print(clf.best_params_)\n",
    "print(clf.best_score_)\n",
    "print(clf.score(X_val, y_val))\n",
    "\n",
    "# Grid Search for Random Forest\n",
    "forest = MyRandomForest(num_trees=50, max_height=12, max_features=3, num_samples=num_samples)\n",
    "parameters = {'num_trees': [10, 20, 50, 100, 200, 300, 400, 500]}\n",
    "clf = GridSearchCV(forest, parameters, cv=5)\n",
    "clf.fit(X_train, y_train)\n",
    "print(clf.best_params_)\n",
    "print(clf.best_score_)\n",
    "print(clf.score(X_val, y_val))\n",
    "\n",
    "# Grid Search for Bagging\n",
    "#bagging = MyBagging(num_trees=10, max_height=12, max_features=3)\n",
    "#parameters = {'num_trees': [10, 20, 50, 100, 200, 300, 400, 500]}\n",
    "#clf = GridSearchCV(bagging, parameters, cv=5)\n",
    "#clf.fit(X_train, y_train)\n",
    "#print(clf.best_params_)\n",
    "#print(clf.best_score_)\n",
    "parameters = {'num_iterations': [10, 20, 30]}\n",
    "clf = GridSearchCV(adaboost, parameters, cv=2)\n",
    "clf.fit(X_train, y_train)\n",
    "print(clf.best_params_)\n",
    "print(clf.best_score_)\n",
    "print(clf.score(X_val, y_val))"
   ]
  },
  {
   "cell_type": "markdown",
   "metadata": {},
   "source": [
    "### Grid Search (Sklearn)"
   ]
  },
  {
   "cell_type": "markdown",
   "metadata": {},
   "source": [
    "Boosting Decision Tree"
   ]
  },
  {
   "cell_type": "code",
   "execution_count": 51,
   "metadata": {},
   "outputs": [
    {
     "name": "stdout",
     "output_type": "stream",
     "text": [
      "Fitting 2 folds for each of 18 candidates, totalling 36 fits\n",
      "{'max_tree_height': 3, 'num_iterations': 300}\n",
      "0.7467290889979337\n",
      "0.750031395202813\n",
      "Mean cross-validated training accuracy score: 0.7467290889979337\n",
      "\n",
      "Best Hyperparameter Combination: {'max_tree_height': 3, 'num_iterations': 300}\n",
      "\n",
      "Validation Score: 0.750031395202813\n",
      "\n"
     ]
    }
   ],
   "source": [
    "# Hyperparameter Tuning using Grid Search\n",
    "from sklearn.model_selection import GridSearchCV\n",
    "\n",
    "# Grid Search for Boosting\n",
    "adaboost = MyAdaBoostTree()\n",
    "hyperparameters = {'num_iterations': [10, 20, 50, 100, 200, 300], 'max_tree_height': [1,2,3]}\n",
    "clf = GridSearchCV(adaboost, hyperparameters, cv=2, verbose=1)\n",
    "clf.fit(X_train, y_train)\n",
    "print(clf.best_params_)\n",
    "print(clf.best_score_)\n",
    "print(clf.score(X_val, y_val))\n",
    "\n",
    "print(f\"Mean cross-validated training accuracy score: {clf.best_score_}\\n\")\n",
    "print(f\"Best Hyperparameter Combination: {clf.best_params_}\\n\")\n",
    "print(f\"Validation Score: {clf.score(X_val, y_val)}\\n\")\n",
    "\n",
    "val_boost_tree_grid = clf.score(X_val, y_val)\n"
   ]
  },
  {
   "cell_type": "markdown",
   "metadata": {},
   "source": [
    "Boosting Logistic Regression"
   ]
  },
  {
   "cell_type": "code",
   "execution_count": 53,
   "metadata": {},
   "outputs": [
    {
     "name": "stdout",
     "output_type": "stream",
     "text": [
      "Fitting 2 folds for each of 6 candidates, totalling 12 fits\n",
      "[CV] END ..................................num_iterations=10; total time=   0.4s\n",
      "[CV] END ..................................num_iterations=10; total time=   0.3s\n",
      "[CV] END ..................................num_iterations=20; total time=   0.9s\n",
      "[CV] END ..................................num_iterations=20; total time=   1.6s\n",
      "[CV] END ..................................num_iterations=50; total time=   2.3s\n",
      "[CV] END ..................................num_iterations=50; total time=   3.1s\n",
      "[CV] END .................................num_iterations=100; total time=   4.2s\n",
      "[CV] END .................................num_iterations=100; total time=   3.2s\n",
      "[CV] END .................................num_iterations=200; total time=   7.3s\n",
      "[CV] END .................................num_iterations=200; total time=   7.0s\n",
      "[CV] END .................................num_iterations=300; total time=  10.1s\n",
      "[CV] END .................................num_iterations=300; total time=   9.7s\n",
      "Mean cross-validated training accuracy score: 0.7280928094608429\n",
      "\n",
      "Best Hyperparameter Combination: {'num_iterations': 20}\n",
      "\n",
      "Validation Score: 0.7280547532337059\n",
      "\n"
     ]
    }
   ],
   "source": [
    "# Hyperparameter Tuning using Grid Search\n",
    "from sklearn.model_selection import GridSearchCV\n",
    "\n",
    "# Grid Search for Boosting\n",
    "adaboost = MyAdaBoostLogistic()\n",
    "hyperparameters = {'num_iterations': [10, 20, 50, 100, 200, 300]}\n",
    "clf = GridSearchCV(adaboost, hyperparameters, cv=2, verbose=2)\n",
    "clf.fit(X_train, y_train)\n",
    "print(f\"Mean cross-validated training accuracy score: {clf.best_score_}\\n\")\n",
    "print(f\"Best Hyperparameter Combination: {clf.best_params_}\\n\")\n",
    "print(f\"Validation Score: {clf.score(X_val, y_val)}\\n\")\n",
    "\n",
    "\n",
    "val_boost_logistic_grid = clf.score(X_val, y_val)"
   ]
  },
  {
   "cell_type": "markdown",
   "metadata": {},
   "source": [
    "Random Forest"
   ]
  },
  {
   "cell_type": "code",
   "execution_count": 55,
   "metadata": {},
   "outputs": [
    {
     "name": "stdout",
     "output_type": "stream",
     "text": [
      "Fitting 2 folds for each of 15 candidates, totalling 30 fits\n",
      "Mean cross-validated training accuracy score: 0.7485365394169421\n",
      "\n",
      "Best Hyperparameter Combination: {'max_height': 10, 'num_trees': 30}\n",
      "\n",
      "Validation Score: 0.7497174431746829\n",
      "\n"
     ]
    }
   ],
   "source": [
    "# Hyperparameter Tuning using Grid Search\n",
    "from sklearn.model_selection import GridSearchCV\n",
    "\n",
    "# Grid Search for Boosting\n",
    "forest = MyRandomForest()\n",
    "hyperparameters = {'num_trees': [10, 20, 30, 40, 50], 'max_height':[3, 5, 10]}\n",
    "clf = GridSearchCV(forest, hyperparameters, cv=2, verbose=1)\n",
    "clf.fit(X_train, y_train)\n",
    "print(f\"Mean cross-validated training accuracy score: {clf.best_score_}\\n\")\n",
    "print(f\"Best Hyperparameter Combination: {clf.best_params_}\\n\")\n",
    "print(f\"Validation Score: {clf.score(X_val, y_val)}\\n\")\n",
    "\n",
    "\n",
    "val_forest_grid = clf.score(X_val, y_val)"
   ]
  },
  {
   "cell_type": "markdown",
   "metadata": {},
   "source": [
    "Bagging"
   ]
  },
  {
   "cell_type": "code",
   "execution_count": 56,
   "metadata": {},
   "outputs": [
    {
     "name": "stdout",
     "output_type": "stream",
     "text": [
      "Fitting 2 folds for each of 6 candidates, totalling 12 fits\n",
      "Mean cross-validated training accuracy score: 0.7473397230846132\n",
      "\n",
      "Best Hyperparameter Combination: {'max_height': 10, 'num_trees': 20}\n",
      "\n",
      "Validation Score: 0.7510360416928293\n",
      "\n"
     ]
    }
   ],
   "source": [
    "# Hyperparameter Tuning using Grid Search\n",
    "from sklearn.model_selection import GridSearchCV\n",
    "\n",
    "# Grid Search for Boosting\n",
    "bagging = MyBagging()\n",
    "hyperparameters = {'num_trees': [10, 20], 'max_height':[3, 5, 10]}\n",
    "clf = GridSearchCV(bagging, hyperparameters, cv=2, verbose=1)\n",
    "clf.fit(X_train, y_train)\n",
    "print(f\"Mean cross-validated training accuracy score: {clf.best_score_}\\n\")\n",
    "print(f\"Best Hyperparameter Combination: {clf.best_params_}\\n\")\n",
    "print(f\"Validation Score: {clf.score(X_val, y_val)}\\n\")\n",
    "\n",
    "\n",
    "val_bagging_grid = clf.score(X_val, y_val)"
   ]
  },
  {
   "cell_type": "code",
   "execution_count": 33,
   "metadata": {},
   "outputs": [
    {
     "name": "stdout",
     "output_type": "stream",
     "text": [
      "Fitting 2 folds for each of 4 candidates, totalling 8 fits\n",
      "[CV] END ..................................k=3, num_models=3; total time=  23.5s\n",
      "[CV] END ..................................k=3, num_models=3; total time=  23.6s\n",
      "[CV] END ..................................k=3, num_models=5; total time=  30.9s\n",
      "[CV] END ..................................k=3, num_models=5; total time=  28.6s\n",
      "[CV] END ..................................k=5, num_models=3; total time=  18.6s\n",
      "[CV] END ..................................k=5, num_models=3; total time=  20.2s\n",
      "[CV] END ..................................k=5, num_models=5; total time=  34.0s\n",
      "[CV] END ..................................k=5, num_models=5; total time=  25.7s\n",
      "{'k': 5, 'num_models': 5}\n",
      "0.7055974036626869\n",
      "0.7110385533090544\n"
     ]
    }
   ],
   "source": [
    "# Hyperparameter Tuning using Grid Search\n",
    "from sklearn.model_selection import GridSearchCV\n",
    "\n",
    "# Grid Search for BaggingKNN\n",
    "bagging = MyBaggingKNN()\n",
    "hyperparameters = {'num_models': [3, 5], 'k':[3, 5]}\n",
    "clf = GridSearchCV(bagging, hyperparameters, cv=2, verbose=2)\n",
    "clf.fit(X_train, y_train)\n",
    "print(f\"Mean cross-validated training accuracy score: {clf.best_score_}\\n\")\n",
    "print(f\"Best Hyperparameter Combination: {clf.best_params_}\\n\")\n",
    "print(f\"Validation Score: {clf.score(X_val, y_val)}\\n\")\n",
    "\n",
    "\n",
    "val_bagging_knn_grid = clf.score(X_val, y_val)"
   ]
  },
  {
   "cell_type": "markdown",
   "metadata": {},
   "source": [
    "### **Random Search**"
   ]
  },
  {
   "cell_type": "code",
   "execution_count": 34,
   "metadata": {},
   "outputs": [
    {
     "name": "stdout",
     "output_type": "stream",
     "text": [
      "Fitting 5 folds for each of 10 candidates, totalling 50 fits\n",
      "[CV] END ...............max_tree_height=1, num_iterations=40; total time=   2.5s\n",
      "[CV] END ...............max_tree_height=1, num_iterations=40; total time=   4.1s\n",
      "[CV] END ...............max_tree_height=1, num_iterations=40; total time=   4.0s\n",
      "[CV] END ...............max_tree_height=1, num_iterations=40; total time=   3.7s\n",
      "[CV] END ...............max_tree_height=1, num_iterations=40; total time=   4.6s\n",
      "[CV] END ...............max_tree_height=1, num_iterations=30; total time=   2.8s\n",
      "[CV] END ...............max_tree_height=1, num_iterations=30; total time=   2.2s\n",
      "[CV] END ...............max_tree_height=1, num_iterations=30; total time=   3.6s\n",
      "[CV] END ...............max_tree_height=1, num_iterations=30; total time=   3.1s\n",
      "[CV] END ...............max_tree_height=1, num_iterations=30; total time=   3.2s\n",
      "[CV] END ...............max_tree_height=2, num_iterations=50; total time=   7.2s\n",
      "[CV] END ...............max_tree_height=2, num_iterations=50; total time=   6.9s\n",
      "[CV] END ...............max_tree_height=2, num_iterations=50; total time=   5.8s\n",
      "[CV] END ...............max_tree_height=2, num_iterations=50; total time=   6.0s\n",
      "[CV] END ...............max_tree_height=2, num_iterations=50; total time=   4.8s\n",
      "[CV] END ...............max_tree_height=1, num_iterations=20; total time=   1.3s\n",
      "[CV] END ...............max_tree_height=1, num_iterations=20; total time=   1.4s\n",
      "[CV] END ...............max_tree_height=1, num_iterations=20; total time=   1.4s\n",
      "[CV] END ...............max_tree_height=1, num_iterations=20; total time=   1.0s\n",
      "[CV] END ...............max_tree_height=1, num_iterations=20; total time=   1.6s\n",
      "[CV] END ...............max_tree_height=1, num_iterations=30; total time=   2.5s\n",
      "[CV] END ...............max_tree_height=1, num_iterations=30; total time=   2.0s\n",
      "[CV] END ...............max_tree_height=1, num_iterations=30; total time=   2.1s\n",
      "[CV] END ...............max_tree_height=1, num_iterations=30; total time=   1.9s\n",
      "[CV] END ...............max_tree_height=1, num_iterations=30; total time=   1.5s\n",
      "[CV] END ...............max_tree_height=1, num_iterations=50; total time=   3.6s\n",
      "[CV] END ...............max_tree_height=1, num_iterations=50; total time=   2.7s\n",
      "[CV] END ...............max_tree_height=1, num_iterations=50; total time=   3.5s\n",
      "[CV] END ...............max_tree_height=1, num_iterations=50; total time=   4.1s\n",
      "[CV] END ...............max_tree_height=1, num_iterations=50; total time=   3.5s\n",
      "[CV] END ...............max_tree_height=2, num_iterations=30; total time=   3.8s\n",
      "[CV] END ...............max_tree_height=2, num_iterations=30; total time=   3.3s\n",
      "[CV] END ...............max_tree_height=2, num_iterations=30; total time=   3.8s\n",
      "[CV] END ...............max_tree_height=2, num_iterations=30; total time=   4.2s\n",
      "[CV] END ...............max_tree_height=2, num_iterations=30; total time=   3.8s\n",
      "[CV] END ...............max_tree_height=2, num_iterations=50; total time=   7.0s\n",
      "[CV] END ...............max_tree_height=2, num_iterations=50; total time=   6.4s\n",
      "[CV] END ...............max_tree_height=2, num_iterations=50; total time=   6.2s\n",
      "[CV] END ...............max_tree_height=2, num_iterations=50; total time=   5.4s\n",
      "[CV] END ...............max_tree_height=2, num_iterations=50; total time=   6.7s\n",
      "[CV] END ...............max_tree_height=2, num_iterations=40; total time=   5.4s\n",
      "[CV] END ...............max_tree_height=2, num_iterations=40; total time=   5.5s\n",
      "[CV] END ...............max_tree_height=2, num_iterations=40; total time=   5.1s\n",
      "[CV] END ...............max_tree_height=2, num_iterations=40; total time=   5.3s\n",
      "[CV] END ...............max_tree_height=2, num_iterations=40; total time=   5.6s\n",
      "[CV] END ...............max_tree_height=2, num_iterations=20; total time=   2.7s\n",
      "[CV] END ...............max_tree_height=2, num_iterations=20; total time=   2.9s\n",
      "[CV] END ...............max_tree_height=2, num_iterations=20; total time=   2.7s\n",
      "[CV] END ...............max_tree_height=2, num_iterations=20; total time=   2.4s\n",
      "[CV] END ...............max_tree_height=2, num_iterations=20; total time=   2.9s\n",
      "Mean cross-validated training accuracy score: 0.7432281701607979\n",
      "\n",
      "Best Estimator: MyAdaBoostTree(max_tree_height=2, num_iterations=50)\n",
      "\n",
      "Best Hyperparameter Combination: {'max_tree_height': 2, 'num_iterations': 50}\n",
      "\n",
      "Validation Score: 0.7475825693833982\n",
      "\n"
     ]
    }
   ],
   "source": [
    "#Hyperparameter tuning using Random Search for AdaboostTree\n",
    "from sklearn.model_selection import RandomizedSearchCV\n",
    "from scipy.stats import randint\n",
    "\n",
    "hyperparameters = {'num_iterations': [10, 15, 20, 25, 30,  35, 40, 45, 50],\n",
    "                   'max_tree_height': [1,2,3,4,5]}\n",
    "adaboost = MyAdaBoostTree()\n",
    "rs = RandomizedSearchCV(adaboost, hyperparameters,cv=2, verbose=2, random_state=42)\n",
    "rs.fit(X_train, y_train)\n",
    "print(f\"Mean cross-validated training accuracy score: {rs.best_score_}\\n\")\n",
    "print(f\"Best Estimator: {rs.best_estimator_}\\n\")\n",
    "print(f\"Best Hyperparameter Combination: {rs.best_params_}\\n\")\n",
    "print(f\"Validation Score: {rs.score(X_val, y_val)}\\n\")\n",
    "\n",
    "val_boost_tree_rand = rs.score(X_val, y_val)\n"
   ]
  },
  {
   "cell_type": "code",
   "execution_count": 39,
   "metadata": {},
   "outputs": [
    {
     "name": "stdout",
     "output_type": "stream",
     "text": [
      "Fitting 5 folds for each of 10 candidates, totalling 50 fits\n",
      "[CV] END ..................................num_iterations=25; total time=   1.3s\n",
      "[CV] END ..................................num_iterations=25; total time=   1.4s\n",
      "[CV] END ..................................num_iterations=25; total time=   1.7s\n",
      "[CV] END ..................................num_iterations=25; total time=   1.3s\n",
      "[CV] END ..................................num_iterations=25; total time=   1.1s\n",
      "[CV] END ...................................num_iterations=3; total time=   0.1s\n",
      "[CV] END ...................................num_iterations=3; total time=   0.2s\n",
      "[CV] END ...................................num_iterations=3; total time=   0.4s\n",
      "[CV] END ...................................num_iterations=3; total time=   0.4s\n",
      "[CV] END ...................................num_iterations=3; total time=   0.2s\n",
      "[CV] END ..................................num_iterations=45; total time=   3.3s\n",
      "[CV] END ..................................num_iterations=45; total time=   2.7s\n",
      "[CV] END ..................................num_iterations=45; total time=   2.1s\n",
      "[CV] END ..................................num_iterations=45; total time=   2.3s\n",
      "[CV] END ..................................num_iterations=45; total time=   2.0s\n",
      "[CV] END ..................................num_iterations=50; total time=   2.0s\n",
      "[CV] END ..................................num_iterations=50; total time=   1.9s\n",
      "[CV] END ..................................num_iterations=50; total time=   1.9s\n",
      "[CV] END ..................................num_iterations=50; total time=   2.0s\n",
      "[CV] END ..................................num_iterations=50; total time=   2.3s\n",
      "[CV] END ..................................num_iterations=10; total time=   0.3s\n",
      "[CV] END ..................................num_iterations=10; total time=   0.5s\n",
      "[CV] END ..................................num_iterations=10; total time=   0.6s\n",
      "[CV] END ..................................num_iterations=10; total time=   0.5s\n",
      "[CV] END ..................................num_iterations=10; total time=   0.5s\n",
      "[CV] END ...................................num_iterations=5; total time=   0.5s\n",
      "[CV] END ...................................num_iterations=5; total time=   0.3s\n",
      "[CV] END ...................................num_iterations=5; total time=   0.2s\n",
      "[CV] END ...................................num_iterations=5; total time=   0.3s\n",
      "[CV] END ...................................num_iterations=5; total time=   0.4s\n",
      "[CV] END ..................................num_iterations=40; total time=   2.2s\n",
      "[CV] END ..................................num_iterations=40; total time=   3.4s\n",
      "[CV] END ..................................num_iterations=40; total time=   2.3s\n",
      "[CV] END ..................................num_iterations=40; total time=   2.3s\n",
      "[CV] END ..................................num_iterations=40; total time=   3.4s\n",
      "[CV] END ..................................num_iterations=20; total time=   1.1s\n",
      "[CV] END ..................................num_iterations=20; total time=   0.9s\n",
      "[CV] END ..................................num_iterations=20; total time=   0.8s\n",
      "[CV] END ..................................num_iterations=20; total time=   1.1s\n",
      "[CV] END ..................................num_iterations=20; total time=   0.8s\n",
      "[CV] END ..................................num_iterations=35; total time=   1.5s\n",
      "[CV] END ..................................num_iterations=35; total time=   2.3s\n",
      "[CV] END ..................................num_iterations=35; total time=   1.6s\n",
      "[CV] END ..................................num_iterations=35; total time=   1.8s\n",
      "[CV] END ..................................num_iterations=35; total time=   1.7s\n",
      "[CV] END ..................................num_iterations=15; total time=   1.6s\n",
      "[CV] END ..................................num_iterations=15; total time=   1.4s\n",
      "[CV] END ..................................num_iterations=15; total time=   1.1s\n",
      "[CV] END ..................................num_iterations=15; total time=   1.8s\n",
      "[CV] END ..................................num_iterations=15; total time=   1.6s\n",
      "Mean cross-validated training accuracy score: 0.7225239161408508\n",
      "\n",
      "Best Estimator: MyAdaBoostLogistic(num_iterations=15)\n",
      "\n",
      "Best Hyperparameter Combination: {'num_iterations': 15}\n",
      "\n",
      "Validation Score: 0.7270501067436895\n",
      "\n"
     ]
    }
   ],
   "source": [
    "#Hyperparameter tuning using Random Search for AdaboostTree\n",
    "from sklearn.model_selection import RandomizedSearchCV\n",
    "from scipy.stats import randint\n",
    "\n",
    "hyperparameters = {'num_iterations': [3, 5, 10, 15, 20, 25, 30, 35, 40,45, 50]}\n",
    "adaboost = MyAdaBoostLogistic()\n",
    "rs = RandomizedSearchCV(adaboost, hyperparameters, cv=2, verbose=2, random_state=42)\n",
    "rs.fit(X_train, y_train)\n",
    "print(f\"Mean cross-validated training accuracy score: {rs.best_score_}\\n\")\n",
    "print(f\"Best Estimator: {rs.best_estimator_}\\n\")\n",
    "print(f\"Best Hyperparameter Combination: {rs.best_params_}\\n\")\n",
    "print(f\"Validation Score: {rs.score(X_val, y_val)}\\n\")\n",
    "\n",
    "\n",
    "val_boost_logistic_rand = rs.score(X_val, y_val)"
   ]
  },
  {
   "cell_type": "code",
   "execution_count": 40,
   "metadata": {},
   "outputs": [
    {
     "name": "stdout",
     "output_type": "stream",
     "text": [
      "Fitting 2 folds for each of 10 candidates, totalling 20 fits\n",
      "[CV] END ........max_features=3, max_height=3, num_trees=200; total time=  20.0s\n",
      "[CV] END ........max_features=3, max_height=3, num_trees=200; total time=  14.6s\n",
      "[CV] END ........max_features=2, max_height=3, num_trees=200; total time=  12.4s\n",
      "[CV] END ........max_features=2, max_height=3, num_trees=200; total time=  15.2s\n",
      "[CV] END .........max_features=4, max_height=3, num_trees=20; total time=   3.0s\n",
      "[CV] END .........max_features=4, max_height=3, num_trees=20; total time=   3.1s\n",
      "[CV] END .......max_features=4, max_height=10, num_trees=200; total time=  46.2s\n",
      "[CV] END .......max_features=4, max_height=10, num_trees=200; total time=  47.2s\n",
      "[CV] END .........max_features=1, max_height=3, num_trees=10; total time=   1.0s\n",
      "[CV] END .........max_features=1, max_height=3, num_trees=10; total time=   1.4s\n",
      "[CV] END .........max_features=2, max_height=5, num_trees=50; total time=   4.5s\n",
      "[CV] END .........max_features=2, max_height=5, num_trees=50; total time=   4.1s\n",
      "[CV] END ........max_features=3, max_height=3, num_trees=100; total time=   8.2s\n",
      "[CV] END ........max_features=3, max_height=3, num_trees=100; total time=   7.7s\n",
      "[CV] END ........max_features=4, max_height=5, num_trees=500; total time=  55.8s\n",
      "[CV] END ........max_features=4, max_height=5, num_trees=500; total time= 1.1min\n",
      "[CV] END ........max_features=1, max_height=5, num_trees=200; total time=  14.9s\n",
      "[CV] END ........max_features=1, max_height=5, num_trees=200; total time=  15.4s\n",
      "[CV] END .........max_features=3, max_height=5, num_trees=50; total time=   6.4s\n",
      "[CV] END .........max_features=3, max_height=5, num_trees=50; total time=   6.0s\n",
      "Mean cross-validated training accuracy score: 0.7492285831269406\n",
      "\n",
      "Best Estimator: MyRandomForest(max_features=4, max_height=10, num_trees=200)\n",
      "\n",
      "Best Hyperparameter Combination: {'num_trees': 200, 'max_height': 10, 'max_features': 4}\n",
      "\n",
      "Validation Score: 0.7508476704759512\n",
      "\n"
     ]
    }
   ],
   "source": [
    "#Hyperparameter tuning using Random Search for Random Forest\n",
    "hyperparameters = {'num_trees': [10, 20, 50, 100, 200, 500],\n",
    "                    'max_height':[3, 5, 10], \n",
    "                    'max_features': [1,2,3,4,5]}\n",
    "forest = MyRandomForest()\n",
    "rs = RandomizedSearchCV(forest, hyperparameters, cv=2, verbose=2, random_state=42)\n",
    "rs.fit(X_train, y_train)\n",
    "print(f\"Mean cross-validated training accuracy score: {rs.best_score_}\\n\")\n",
    "print(f\"Best Estimator: {rs.best_estimator_}\\n\")\n",
    "print(f\"Best Hyperparameter Combination: {rs.best_params_}\\n\")\n",
    "print(f\"Validation Score: {rs.score(X_val, y_val)}\\n\")\n",
    "\n",
    "val_forest_rand = rs.score(X_val, y_val)"
   ]
  },
  {
   "cell_type": "code",
   "execution_count": 42,
   "metadata": {},
   "outputs": [
    {
     "name": "stdout",
     "output_type": "stream",
     "text": [
      "Fitting 2 folds for each of 10 candidates, totalling 20 fits\n",
      "[CV] END .........................max_height=3, num_trees=10; total time=   1.5s\n",
      "[CV] END .........................max_height=3, num_trees=10; total time=   2.3s\n",
      "[CV] END .........................max_height=3, num_trees=20; total time=   3.2s\n",
      "[CV] END .........................max_height=3, num_trees=20; total time=   2.5s\n",
      "[CV] END .........................max_height=5, num_trees=50; total time=   9.1s\n",
      "[CV] END .........................max_height=5, num_trees=50; total time=  10.6s\n",
      "[CV] END ........................max_height=3, num_trees=500; total time= 1.0min\n",
      "[CV] END ........................max_height=3, num_trees=500; total time= 1.2min\n",
      "[CV] END ........................max_height=3, num_trees=100; total time=  13.6s\n",
      "[CV] END ........................max_height=3, num_trees=100; total time=  14.6s\n",
      "[CV] END ........................max_height=10, num_trees=20; total time=   8.9s\n",
      "[CV] END ........................max_height=10, num_trees=20; total time=   7.8s\n",
      "[CV] END .......................max_height=10, num_trees=200; total time= 1.1min\n",
      "[CV] END .......................max_height=10, num_trees=200; total time= 1.1min\n",
      "[CV] END .......................max_height=10, num_trees=100; total time=  32.7s\n",
      "[CV] END .......................max_height=10, num_trees=100; total time=  32.6s\n",
      "[CV] END ........................max_height=5, num_trees=500; total time= 1.4min\n",
      "[CV] END ........................max_height=5, num_trees=500; total time= 1.3min\n",
      "[CV] END .........................max_height=3, num_trees=50; total time=   5.2s\n",
      "[CV] END .........................max_height=3, num_trees=50; total time=   4.6s\n",
      "Mean cross-validated training accuracy score: 0.7484388423539049\n",
      "\n",
      "Best Estimator: MyBagging(max_height=10, num_trees=200)\n",
      "\n",
      "Best Hyperparameter Combination: {'num_trees': 200, 'max_height': 10}\n",
      "\n",
      "Validation Score: 0.7505337184478211\n",
      "\n"
     ]
    }
   ],
   "source": [
    "#Hyperparameter tuning using Random Search for Random Forest\n",
    "hyperparameters = {'num_trees': [10, 20, 50, 100, 200, 500],\n",
    "                    'max_height':[3, 5, 10]}\n",
    "bagging = MyBagging()\n",
    "rs = RandomizedSearchCV(bagging, hyperparameters, cv=2, verbose=2, random_state=42)\n",
    "rs.fit(X_train, y_train)\n",
    "print(f\"Mean cross-validated training accuracy score: {rs.best_score_}\\n\")\n",
    "print(f\"Best Estimator: {rs.best_estimator_}\\n\")\n",
    "print(f\"Best Hyperparameter Combination: {rs.best_params_}\\n\")\n",
    "print(f\"Validation Score: {rs.score(X_val, y_val)}\\n\")\n",
    "\n",
    "\n",
    "val_bagging_rand = rs.score(X_val, y_val)"
   ]
  },
  {
   "cell_type": "markdown",
   "metadata": {},
   "source": [
    "### **Bayesian Search**"
   ]
  },
  {
   "cell_type": "code",
   "execution_count": 14,
   "metadata": {},
   "outputs": [
    {
     "ename": "AttributeError",
     "evalue": "module 'numpy' has no attribute 'int'.\n`np.int` was a deprecated alias for the builtin `int`. To avoid this error in existing code, use `int` by itself. Doing this will not modify any behavior and is safe. When replacing `np.int`, you may wish to use e.g. `np.int64` or `np.int32` to specify the precision. If you wish to review your current use, check the release note link for additional information.\nThe aliases was originally deprecated in NumPy 1.20; for more details and guidance see the original release note at:\n    https://numpy.org/devdocs/release/1.20.0-notes.html#deprecations",
     "output_type": "error",
     "traceback": [
      "\u001b[0;31m---------------------------------------------------------------------------\u001b[0m",
      "\u001b[0;31mAttributeError\u001b[0m                            Traceback (most recent call last)",
      "Cell \u001b[0;32mIn[14], line 6\u001b[0m\n\u001b[1;32m      4\u001b[0m adaboost \u001b[38;5;241m=\u001b[39m MyAdaBoostTree()\n\u001b[1;32m      5\u001b[0m rf \u001b[38;5;241m=\u001b[39m BayesSearchCV(adaboost, hyperparameters, cv\u001b[38;5;241m=\u001b[39m\u001b[38;5;241m2\u001b[39m, verbose\u001b[38;5;241m=\u001b[39m\u001b[38;5;241m2\u001b[39m, random_state\u001b[38;5;241m=\u001b[39m\u001b[38;5;241m42\u001b[39m)\n\u001b[0;32m----> 6\u001b[0m \u001b[43mrf\u001b[49m\u001b[38;5;241;43m.\u001b[39;49m\u001b[43mfit\u001b[49m\u001b[43m(\u001b[49m\u001b[43mX_train\u001b[49m\u001b[43m,\u001b[49m\u001b[43m \u001b[49m\u001b[43my_train\u001b[49m\u001b[43m)\u001b[49m\n\u001b[1;32m      7\u001b[0m \u001b[38;5;28mprint\u001b[39m(\u001b[38;5;124mf\u001b[39m\u001b[38;5;124m\"\u001b[39m\u001b[38;5;124mMean cross-validated training accuracy score: \u001b[39m\u001b[38;5;132;01m{\u001b[39;00mrf\u001b[38;5;241m.\u001b[39mbest_score_\u001b[38;5;132;01m}\u001b[39;00m\u001b[38;5;130;01m\\n\u001b[39;00m\u001b[38;5;124m\"\u001b[39m)\n\u001b[1;32m      8\u001b[0m \u001b[38;5;28mprint\u001b[39m(\u001b[38;5;124mf\u001b[39m\u001b[38;5;124m\"\u001b[39m\u001b[38;5;124mBest Estimator: \u001b[39m\u001b[38;5;132;01m{\u001b[39;00mrf\u001b[38;5;241m.\u001b[39mbest_estimator_\u001b[38;5;132;01m}\u001b[39;00m\u001b[38;5;130;01m\\n\u001b[39;00m\u001b[38;5;124m\"\u001b[39m)\n",
      "File \u001b[0;32m~/miniconda3/lib/python3.11/site-packages/skopt/searchcv.py:466\u001b[0m, in \u001b[0;36mBayesSearchCV.fit\u001b[0;34m(self, X, y, groups, callback, **fit_params)\u001b[0m\n\u001b[1;32m    463\u001b[0m \u001b[38;5;28;01melse\u001b[39;00m:\n\u001b[1;32m    464\u001b[0m     \u001b[38;5;28mself\u001b[39m\u001b[38;5;241m.\u001b[39moptimizer_kwargs_ \u001b[38;5;241m=\u001b[39m \u001b[38;5;28mdict\u001b[39m(\u001b[38;5;28mself\u001b[39m\u001b[38;5;241m.\u001b[39moptimizer_kwargs)\n\u001b[0;32m--> 466\u001b[0m \u001b[38;5;28;43msuper\u001b[39;49m\u001b[43m(\u001b[49m\u001b[43m)\u001b[49m\u001b[38;5;241;43m.\u001b[39;49m\u001b[43mfit\u001b[49m\u001b[43m(\u001b[49m\u001b[43mX\u001b[49m\u001b[38;5;241;43m=\u001b[39;49m\u001b[43mX\u001b[49m\u001b[43m,\u001b[49m\u001b[43m \u001b[49m\u001b[43my\u001b[49m\u001b[38;5;241;43m=\u001b[39;49m\u001b[43my\u001b[49m\u001b[43m,\u001b[49m\u001b[43m \u001b[49m\u001b[43mgroups\u001b[49m\u001b[38;5;241;43m=\u001b[39;49m\u001b[43mgroups\u001b[49m\u001b[43m,\u001b[49m\u001b[43m \u001b[49m\u001b[38;5;241;43m*\u001b[39;49m\u001b[38;5;241;43m*\u001b[39;49m\u001b[43mfit_params\u001b[49m\u001b[43m)\u001b[49m\n\u001b[1;32m    468\u001b[0m \u001b[38;5;66;03m# BaseSearchCV never ranked train scores,\u001b[39;00m\n\u001b[1;32m    469\u001b[0m \u001b[38;5;66;03m# but apparently we used to ship this (back-compat)\u001b[39;00m\n\u001b[1;32m    470\u001b[0m \u001b[38;5;28;01mif\u001b[39;00m \u001b[38;5;28mself\u001b[39m\u001b[38;5;241m.\u001b[39mreturn_train_score:\n",
      "File \u001b[0;32m~/miniconda3/lib/python3.11/site-packages/sklearn/base.py:1152\u001b[0m, in \u001b[0;36m_fit_context.<locals>.decorator.<locals>.wrapper\u001b[0;34m(estimator, *args, **kwargs)\u001b[0m\n\u001b[1;32m   1145\u001b[0m     estimator\u001b[38;5;241m.\u001b[39m_validate_params()\n\u001b[1;32m   1147\u001b[0m \u001b[38;5;28;01mwith\u001b[39;00m config_context(\n\u001b[1;32m   1148\u001b[0m     skip_parameter_validation\u001b[38;5;241m=\u001b[39m(\n\u001b[1;32m   1149\u001b[0m         prefer_skip_nested_validation \u001b[38;5;129;01mor\u001b[39;00m global_skip_validation\n\u001b[1;32m   1150\u001b[0m     )\n\u001b[1;32m   1151\u001b[0m ):\n\u001b[0;32m-> 1152\u001b[0m     \u001b[38;5;28;01mreturn\u001b[39;00m \u001b[43mfit_method\u001b[49m\u001b[43m(\u001b[49m\u001b[43mestimator\u001b[49m\u001b[43m,\u001b[49m\u001b[43m \u001b[49m\u001b[38;5;241;43m*\u001b[39;49m\u001b[43margs\u001b[49m\u001b[43m,\u001b[49m\u001b[43m \u001b[49m\u001b[38;5;241;43m*\u001b[39;49m\u001b[38;5;241;43m*\u001b[39;49m\u001b[43mkwargs\u001b[49m\u001b[43m)\u001b[49m\n",
      "File \u001b[0;32m~/miniconda3/lib/python3.11/site-packages/sklearn/model_selection/_search.py:898\u001b[0m, in \u001b[0;36mBaseSearchCV.fit\u001b[0;34m(self, X, y, groups, **fit_params)\u001b[0m\n\u001b[1;32m    892\u001b[0m     results \u001b[38;5;241m=\u001b[39m \u001b[38;5;28mself\u001b[39m\u001b[38;5;241m.\u001b[39m_format_results(\n\u001b[1;32m    893\u001b[0m         all_candidate_params, n_splits, all_out, all_more_results\n\u001b[1;32m    894\u001b[0m     )\n\u001b[1;32m    896\u001b[0m     \u001b[38;5;28;01mreturn\u001b[39;00m results\n\u001b[0;32m--> 898\u001b[0m \u001b[38;5;28;43mself\u001b[39;49m\u001b[38;5;241;43m.\u001b[39;49m\u001b[43m_run_search\u001b[49m\u001b[43m(\u001b[49m\u001b[43mevaluate_candidates\u001b[49m\u001b[43m)\u001b[49m\n\u001b[1;32m    900\u001b[0m \u001b[38;5;66;03m# multimetric is determined here because in the case of a callable\u001b[39;00m\n\u001b[1;32m    901\u001b[0m \u001b[38;5;66;03m# self.scoring the return type is only known after calling\u001b[39;00m\n\u001b[1;32m    902\u001b[0m first_test_score \u001b[38;5;241m=\u001b[39m all_out[\u001b[38;5;241m0\u001b[39m][\u001b[38;5;124m\"\u001b[39m\u001b[38;5;124mtest_scores\u001b[39m\u001b[38;5;124m\"\u001b[39m]\n",
      "File \u001b[0;32m~/miniconda3/lib/python3.11/site-packages/skopt/searchcv.py:512\u001b[0m, in \u001b[0;36mBayesSearchCV._run_search\u001b[0;34m(self, evaluate_candidates)\u001b[0m\n\u001b[1;32m    508\u001b[0m \u001b[38;5;28;01mwhile\u001b[39;00m n_iter \u001b[38;5;241m>\u001b[39m \u001b[38;5;241m0\u001b[39m:\n\u001b[1;32m    509\u001b[0m     \u001b[38;5;66;03m# when n_iter < n_points points left for evaluation\u001b[39;00m\n\u001b[1;32m    510\u001b[0m     n_points_adjusted \u001b[38;5;241m=\u001b[39m \u001b[38;5;28mmin\u001b[39m(n_iter, n_points)\n\u001b[0;32m--> 512\u001b[0m     optim_result \u001b[38;5;241m=\u001b[39m \u001b[38;5;28;43mself\u001b[39;49m\u001b[38;5;241;43m.\u001b[39;49m\u001b[43m_step\u001b[49m\u001b[43m(\u001b[49m\n\u001b[1;32m    513\u001b[0m \u001b[43m        \u001b[49m\u001b[43msearch_space\u001b[49m\u001b[43m,\u001b[49m\u001b[43m \u001b[49m\u001b[43moptimizer\u001b[49m\u001b[43m,\u001b[49m\n\u001b[1;32m    514\u001b[0m \u001b[43m        \u001b[49m\u001b[43mevaluate_candidates\u001b[49m\u001b[43m,\u001b[49m\u001b[43m \u001b[49m\u001b[43mn_points\u001b[49m\u001b[38;5;241;43m=\u001b[39;49m\u001b[43mn_points_adjusted\u001b[49m\n\u001b[1;32m    515\u001b[0m \u001b[43m    \u001b[49m\u001b[43m)\u001b[49m\n\u001b[1;32m    516\u001b[0m     n_iter \u001b[38;5;241m-\u001b[39m\u001b[38;5;241m=\u001b[39m n_points\n\u001b[1;32m    518\u001b[0m     \u001b[38;5;28;01mif\u001b[39;00m eval_callbacks(callbacks, optim_result):\n",
      "File \u001b[0;32m~/miniconda3/lib/python3.11/site-packages/skopt/searchcv.py:400\u001b[0m, in \u001b[0;36mBayesSearchCV._step\u001b[0;34m(self, search_space, optimizer, evaluate_candidates, n_points)\u001b[0m\n\u001b[1;32m    397\u001b[0m \u001b[38;5;250m\u001b[39m\u001b[38;5;124;03m\"\"\"Generate n_jobs parameters and evaluate them in parallel.\u001b[39;00m\n\u001b[1;32m    398\u001b[0m \u001b[38;5;124;03m\"\"\"\u001b[39;00m\n\u001b[1;32m    399\u001b[0m \u001b[38;5;66;03m# get parameter values to evaluate\u001b[39;00m\n\u001b[0;32m--> 400\u001b[0m params \u001b[38;5;241m=\u001b[39m \u001b[43moptimizer\u001b[49m\u001b[38;5;241;43m.\u001b[39;49m\u001b[43mask\u001b[49m\u001b[43m(\u001b[49m\u001b[43mn_points\u001b[49m\u001b[38;5;241;43m=\u001b[39;49m\u001b[43mn_points\u001b[49m\u001b[43m)\u001b[49m\n\u001b[1;32m    402\u001b[0m \u001b[38;5;66;03m# convert parameters to python native types\u001b[39;00m\n\u001b[1;32m    403\u001b[0m params \u001b[38;5;241m=\u001b[39m [[np\u001b[38;5;241m.\u001b[39marray(v)\u001b[38;5;241m.\u001b[39mitem() \u001b[38;5;28;01mfor\u001b[39;00m v \u001b[38;5;129;01min\u001b[39;00m p] \u001b[38;5;28;01mfor\u001b[39;00m p \u001b[38;5;129;01min\u001b[39;00m params]\n",
      "File \u001b[0;32m~/miniconda3/lib/python3.11/site-packages/skopt/optimizer/optimizer.py:395\u001b[0m, in \u001b[0;36mOptimizer.ask\u001b[0;34m(self, n_points, strategy)\u001b[0m\n\u001b[1;32m    393\u001b[0m X \u001b[38;5;241m=\u001b[39m []\n\u001b[1;32m    394\u001b[0m \u001b[38;5;28;01mfor\u001b[39;00m i \u001b[38;5;129;01min\u001b[39;00m \u001b[38;5;28mrange\u001b[39m(n_points):\n\u001b[0;32m--> 395\u001b[0m     x \u001b[38;5;241m=\u001b[39m \u001b[43mopt\u001b[49m\u001b[38;5;241;43m.\u001b[39;49m\u001b[43mask\u001b[49m\u001b[43m(\u001b[49m\u001b[43m)\u001b[49m\n\u001b[1;32m    396\u001b[0m     X\u001b[38;5;241m.\u001b[39mappend(x)\n\u001b[1;32m    398\u001b[0m     ti_available \u001b[38;5;241m=\u001b[39m \u001b[38;5;124m\"\u001b[39m\u001b[38;5;124mps\u001b[39m\u001b[38;5;124m\"\u001b[39m \u001b[38;5;129;01min\u001b[39;00m \u001b[38;5;28mself\u001b[39m\u001b[38;5;241m.\u001b[39macq_func \u001b[38;5;129;01mand\u001b[39;00m \u001b[38;5;28mlen\u001b[39m(opt\u001b[38;5;241m.\u001b[39myi) \u001b[38;5;241m>\u001b[39m \u001b[38;5;241m0\u001b[39m\n",
      "File \u001b[0;32m~/miniconda3/lib/python3.11/site-packages/skopt/optimizer/optimizer.py:367\u001b[0m, in \u001b[0;36mOptimizer.ask\u001b[0;34m(self, n_points, strategy)\u001b[0m\n\u001b[1;32m    336\u001b[0m \u001b[38;5;250m\u001b[39m\u001b[38;5;124;03m\"\"\"Query point or multiple points at which objective should be evaluated.\u001b[39;00m\n\u001b[1;32m    337\u001b[0m \n\u001b[1;32m    338\u001b[0m \u001b[38;5;124;03mn_points : int or None, default: None\u001b[39;00m\n\u001b[0;32m   (...)\u001b[0m\n\u001b[1;32m    364\u001b[0m \n\u001b[1;32m    365\u001b[0m \u001b[38;5;124;03m\"\"\"\u001b[39;00m\n\u001b[1;32m    366\u001b[0m \u001b[38;5;28;01mif\u001b[39;00m n_points \u001b[38;5;129;01mis\u001b[39;00m \u001b[38;5;28;01mNone\u001b[39;00m:\n\u001b[0;32m--> 367\u001b[0m     \u001b[38;5;28;01mreturn\u001b[39;00m \u001b[38;5;28;43mself\u001b[39;49m\u001b[38;5;241;43m.\u001b[39;49m\u001b[43m_ask\u001b[49m\u001b[43m(\u001b[49m\u001b[43m)\u001b[49m\n\u001b[1;32m    369\u001b[0m supported_strategies \u001b[38;5;241m=\u001b[39m [\u001b[38;5;124m\"\u001b[39m\u001b[38;5;124mcl_min\u001b[39m\u001b[38;5;124m\"\u001b[39m, \u001b[38;5;124m\"\u001b[39m\u001b[38;5;124mcl_mean\u001b[39m\u001b[38;5;124m\"\u001b[39m, \u001b[38;5;124m\"\u001b[39m\u001b[38;5;124mcl_max\u001b[39m\u001b[38;5;124m\"\u001b[39m]\n\u001b[1;32m    371\u001b[0m \u001b[38;5;28;01mif\u001b[39;00m \u001b[38;5;129;01mnot\u001b[39;00m (\u001b[38;5;28misinstance\u001b[39m(n_points, \u001b[38;5;28mint\u001b[39m) \u001b[38;5;129;01mand\u001b[39;00m n_points \u001b[38;5;241m>\u001b[39m \u001b[38;5;241m0\u001b[39m):\n",
      "File \u001b[0;32m~/miniconda3/lib/python3.11/site-packages/skopt/optimizer/optimizer.py:434\u001b[0m, in \u001b[0;36mOptimizer._ask\u001b[0;34m(self)\u001b[0m\n\u001b[1;32m    430\u001b[0m \u001b[38;5;28;01mif\u001b[39;00m \u001b[38;5;28mself\u001b[39m\u001b[38;5;241m.\u001b[39m_n_initial_points \u001b[38;5;241m>\u001b[39m \u001b[38;5;241m0\u001b[39m \u001b[38;5;129;01mor\u001b[39;00m \u001b[38;5;28mself\u001b[39m\u001b[38;5;241m.\u001b[39mbase_estimator_ \u001b[38;5;129;01mis\u001b[39;00m \u001b[38;5;28;01mNone\u001b[39;00m:\n\u001b[1;32m    431\u001b[0m     \u001b[38;5;66;03m# this will not make a copy of `self.rng` and hence keep advancing\u001b[39;00m\n\u001b[1;32m    432\u001b[0m     \u001b[38;5;66;03m# our random state.\u001b[39;00m\n\u001b[1;32m    433\u001b[0m     \u001b[38;5;28;01mif\u001b[39;00m \u001b[38;5;28mself\u001b[39m\u001b[38;5;241m.\u001b[39m_initial_samples \u001b[38;5;129;01mis\u001b[39;00m \u001b[38;5;28;01mNone\u001b[39;00m:\n\u001b[0;32m--> 434\u001b[0m         \u001b[38;5;28;01mreturn\u001b[39;00m \u001b[38;5;28;43mself\u001b[39;49m\u001b[38;5;241;43m.\u001b[39;49m\u001b[43mspace\u001b[49m\u001b[38;5;241;43m.\u001b[39;49m\u001b[43mrvs\u001b[49m\u001b[43m(\u001b[49m\u001b[43mrandom_state\u001b[49m\u001b[38;5;241;43m=\u001b[39;49m\u001b[38;5;28;43mself\u001b[39;49m\u001b[38;5;241;43m.\u001b[39;49m\u001b[43mrng\u001b[49m\u001b[43m)\u001b[49m[\u001b[38;5;241m0\u001b[39m]\n\u001b[1;32m    435\u001b[0m     \u001b[38;5;28;01melse\u001b[39;00m:\n\u001b[1;32m    436\u001b[0m         \u001b[38;5;66;03m# The samples are evaluated starting form initial_samples[0]\u001b[39;00m\n\u001b[1;32m    437\u001b[0m         \u001b[38;5;28;01mreturn\u001b[39;00m \u001b[38;5;28mself\u001b[39m\u001b[38;5;241m.\u001b[39m_initial_samples[\n\u001b[1;32m    438\u001b[0m             \u001b[38;5;28mlen\u001b[39m(\u001b[38;5;28mself\u001b[39m\u001b[38;5;241m.\u001b[39m_initial_samples) \u001b[38;5;241m-\u001b[39m \u001b[38;5;28mself\u001b[39m\u001b[38;5;241m.\u001b[39m_n_initial_points]\n",
      "File \u001b[0;32m~/miniconda3/lib/python3.11/site-packages/skopt/space/space.py:900\u001b[0m, in \u001b[0;36mSpace.rvs\u001b[0;34m(self, n_samples, random_state)\u001b[0m\n\u001b[1;32m    897\u001b[0m columns \u001b[38;5;241m=\u001b[39m []\n\u001b[1;32m    899\u001b[0m \u001b[38;5;28;01mfor\u001b[39;00m dim \u001b[38;5;129;01min\u001b[39;00m \u001b[38;5;28mself\u001b[39m\u001b[38;5;241m.\u001b[39mdimensions:\n\u001b[0;32m--> 900\u001b[0m     columns\u001b[38;5;241m.\u001b[39mappend(\u001b[43mdim\u001b[49m\u001b[38;5;241;43m.\u001b[39;49m\u001b[43mrvs\u001b[49m\u001b[43m(\u001b[49m\u001b[43mn_samples\u001b[49m\u001b[38;5;241;43m=\u001b[39;49m\u001b[43mn_samples\u001b[49m\u001b[43m,\u001b[49m\u001b[43m \u001b[49m\u001b[43mrandom_state\u001b[49m\u001b[38;5;241;43m=\u001b[39;49m\u001b[43mrng\u001b[49m\u001b[43m)\u001b[49m)\n\u001b[1;32m    902\u001b[0m \u001b[38;5;66;03m# Transpose\u001b[39;00m\n\u001b[1;32m    903\u001b[0m \u001b[38;5;28;01mreturn\u001b[39;00m _transpose_list_array(columns)\n",
      "File \u001b[0;32m~/miniconda3/lib/python3.11/site-packages/skopt/space/space.py:698\u001b[0m, in \u001b[0;36mCategorical.rvs\u001b[0;34m(self, n_samples, random_state)\u001b[0m\n\u001b[1;32m    696\u001b[0m     \u001b[38;5;28;01mreturn\u001b[39;00m \u001b[38;5;28mself\u001b[39m\u001b[38;5;241m.\u001b[39minverse_transform([(choices)])\n\u001b[1;32m    697\u001b[0m \u001b[38;5;28;01melif\u001b[39;00m \u001b[38;5;28mself\u001b[39m\u001b[38;5;241m.\u001b[39mtransform_ \u001b[38;5;241m==\u001b[39m \u001b[38;5;124m\"\u001b[39m\u001b[38;5;124mnormalize\u001b[39m\u001b[38;5;124m\"\u001b[39m:\n\u001b[0;32m--> 698\u001b[0m     \u001b[38;5;28;01mreturn\u001b[39;00m \u001b[38;5;28;43mself\u001b[39;49m\u001b[38;5;241;43m.\u001b[39;49m\u001b[43minverse_transform\u001b[49m\u001b[43m(\u001b[49m\u001b[38;5;28;43mlist\u001b[39;49m\u001b[43m(\u001b[49m\u001b[43mchoices\u001b[49m\u001b[43m)\u001b[49m\u001b[43m)\u001b[49m\n\u001b[1;32m    699\u001b[0m \u001b[38;5;28;01melse\u001b[39;00m:\n\u001b[1;32m    700\u001b[0m     \u001b[38;5;28;01mreturn\u001b[39;00m [\u001b[38;5;28mself\u001b[39m\u001b[38;5;241m.\u001b[39mcategories[c] \u001b[38;5;28;01mfor\u001b[39;00m c \u001b[38;5;129;01min\u001b[39;00m choices]\n",
      "File \u001b[0;32m~/miniconda3/lib/python3.11/site-packages/skopt/space/space.py:685\u001b[0m, in \u001b[0;36mCategorical.inverse_transform\u001b[0;34m(self, Xt)\u001b[0m\n\u001b[1;32m    680\u001b[0m \u001b[38;5;250m\u001b[39m\u001b[38;5;124;03m\"\"\"Inverse transform samples from the warped space back into the\u001b[39;00m\n\u001b[1;32m    681\u001b[0m \u001b[38;5;124;03m   original space.\u001b[39;00m\n\u001b[1;32m    682\u001b[0m \u001b[38;5;124;03m\"\"\"\u001b[39;00m\n\u001b[1;32m    683\u001b[0m \u001b[38;5;66;03m# The concatenation of all transformed dimensions makes Xt to be\u001b[39;00m\n\u001b[1;32m    684\u001b[0m \u001b[38;5;66;03m# of type float, hence the required cast back to int.\u001b[39;00m\n\u001b[0;32m--> 685\u001b[0m inv_transform \u001b[38;5;241m=\u001b[39m \u001b[38;5;28;43msuper\u001b[39;49m\u001b[43m(\u001b[49m\u001b[43mCategorical\u001b[49m\u001b[43m,\u001b[49m\u001b[43m \u001b[49m\u001b[38;5;28;43mself\u001b[39;49m\u001b[43m)\u001b[49m\u001b[38;5;241;43m.\u001b[39;49m\u001b[43minverse_transform\u001b[49m\u001b[43m(\u001b[49m\u001b[43mXt\u001b[49m\u001b[43m)\u001b[49m\n\u001b[1;32m    686\u001b[0m \u001b[38;5;28;01mif\u001b[39;00m \u001b[38;5;28misinstance\u001b[39m(inv_transform, \u001b[38;5;28mlist\u001b[39m):\n\u001b[1;32m    687\u001b[0m     inv_transform \u001b[38;5;241m=\u001b[39m np\u001b[38;5;241m.\u001b[39marray(inv_transform)\n",
      "File \u001b[0;32m~/miniconda3/lib/python3.11/site-packages/skopt/space/space.py:168\u001b[0m, in \u001b[0;36mDimension.inverse_transform\u001b[0;34m(self, Xt)\u001b[0m\n\u001b[1;32m    164\u001b[0m \u001b[38;5;28;01mdef\u001b[39;00m \u001b[38;5;21minverse_transform\u001b[39m(\u001b[38;5;28mself\u001b[39m, Xt):\n\u001b[1;32m    165\u001b[0m \u001b[38;5;250m    \u001b[39m\u001b[38;5;124;03m\"\"\"Inverse transform samples from the warped space back into the\u001b[39;00m\n\u001b[1;32m    166\u001b[0m \u001b[38;5;124;03m       original space.\u001b[39;00m\n\u001b[1;32m    167\u001b[0m \u001b[38;5;124;03m    \"\"\"\u001b[39;00m\n\u001b[0;32m--> 168\u001b[0m     \u001b[38;5;28;01mreturn\u001b[39;00m \u001b[38;5;28;43mself\u001b[39;49m\u001b[38;5;241;43m.\u001b[39;49m\u001b[43mtransformer\u001b[49m\u001b[38;5;241;43m.\u001b[39;49m\u001b[43minverse_transform\u001b[49m\u001b[43m(\u001b[49m\u001b[43mXt\u001b[49m\u001b[43m)\u001b[49m\n",
      "File \u001b[0;32m~/miniconda3/lib/python3.11/site-packages/skopt/space/transformers.py:309\u001b[0m, in \u001b[0;36mPipeline.inverse_transform\u001b[0;34m(self, X)\u001b[0m\n\u001b[1;32m    307\u001b[0m \u001b[38;5;28;01mdef\u001b[39;00m \u001b[38;5;21minverse_transform\u001b[39m(\u001b[38;5;28mself\u001b[39m, X):\n\u001b[1;32m    308\u001b[0m     \u001b[38;5;28;01mfor\u001b[39;00m transformer \u001b[38;5;129;01min\u001b[39;00m \u001b[38;5;28mself\u001b[39m\u001b[38;5;241m.\u001b[39mtransformers[::\u001b[38;5;241m-\u001b[39m\u001b[38;5;241m1\u001b[39m]:\n\u001b[0;32m--> 309\u001b[0m         X \u001b[38;5;241m=\u001b[39m \u001b[43mtransformer\u001b[49m\u001b[38;5;241;43m.\u001b[39;49m\u001b[43minverse_transform\u001b[49m\u001b[43m(\u001b[49m\u001b[43mX\u001b[49m\u001b[43m)\u001b[49m\n\u001b[1;32m    310\u001b[0m     \u001b[38;5;28;01mreturn\u001b[39;00m X\n",
      "File \u001b[0;32m~/miniconda3/lib/python3.11/site-packages/skopt/space/transformers.py:275\u001b[0m, in \u001b[0;36mNormalize.inverse_transform\u001b[0;34m(self, X)\u001b[0m\n\u001b[1;32m    273\u001b[0m X_orig \u001b[38;5;241m=\u001b[39m X \u001b[38;5;241m*\u001b[39m (\u001b[38;5;28mself\u001b[39m\u001b[38;5;241m.\u001b[39mhigh \u001b[38;5;241m-\u001b[39m \u001b[38;5;28mself\u001b[39m\u001b[38;5;241m.\u001b[39mlow) \u001b[38;5;241m+\u001b[39m \u001b[38;5;28mself\u001b[39m\u001b[38;5;241m.\u001b[39mlow\n\u001b[1;32m    274\u001b[0m \u001b[38;5;28;01mif\u001b[39;00m \u001b[38;5;28mself\u001b[39m\u001b[38;5;241m.\u001b[39mis_int:\n\u001b[0;32m--> 275\u001b[0m     \u001b[38;5;28;01mreturn\u001b[39;00m np\u001b[38;5;241m.\u001b[39mround(X_orig)\u001b[38;5;241m.\u001b[39mastype(\u001b[43mnp\u001b[49m\u001b[38;5;241;43m.\u001b[39;49m\u001b[43mint\u001b[49m)\n\u001b[1;32m    276\u001b[0m \u001b[38;5;28;01mreturn\u001b[39;00m X_orig\n",
      "File \u001b[0;32m~/miniconda3/lib/python3.11/site-packages/numpy/__init__.py:324\u001b[0m, in \u001b[0;36m__getattr__\u001b[0;34m(attr)\u001b[0m\n\u001b[1;32m    319\u001b[0m     warnings\u001b[38;5;241m.\u001b[39mwarn(\n\u001b[1;32m    320\u001b[0m         \u001b[38;5;124mf\u001b[39m\u001b[38;5;124m\"\u001b[39m\u001b[38;5;124mIn the future `np.\u001b[39m\u001b[38;5;132;01m{\u001b[39;00mattr\u001b[38;5;132;01m}\u001b[39;00m\u001b[38;5;124m` will be defined as the \u001b[39m\u001b[38;5;124m\"\u001b[39m\n\u001b[1;32m    321\u001b[0m         \u001b[38;5;124m\"\u001b[39m\u001b[38;5;124mcorresponding NumPy scalar.\u001b[39m\u001b[38;5;124m\"\u001b[39m, \u001b[38;5;167;01mFutureWarning\u001b[39;00m, stacklevel\u001b[38;5;241m=\u001b[39m\u001b[38;5;241m2\u001b[39m)\n\u001b[1;32m    323\u001b[0m \u001b[38;5;28;01mif\u001b[39;00m attr \u001b[38;5;129;01min\u001b[39;00m __former_attrs__:\n\u001b[0;32m--> 324\u001b[0m     \u001b[38;5;28;01mraise\u001b[39;00m \u001b[38;5;167;01mAttributeError\u001b[39;00m(__former_attrs__[attr])\n\u001b[1;32m    326\u001b[0m \u001b[38;5;28;01mif\u001b[39;00m attr \u001b[38;5;241m==\u001b[39m \u001b[38;5;124m'\u001b[39m\u001b[38;5;124mtesting\u001b[39m\u001b[38;5;124m'\u001b[39m:\n\u001b[1;32m    327\u001b[0m     \u001b[38;5;28;01mimport\u001b[39;00m \u001b[38;5;21;01mnumpy\u001b[39;00m\u001b[38;5;21;01m.\u001b[39;00m\u001b[38;5;21;01mtesting\u001b[39;00m \u001b[38;5;28;01mas\u001b[39;00m \u001b[38;5;21;01mtesting\u001b[39;00m\n",
      "\u001b[0;31mAttributeError\u001b[0m: module 'numpy' has no attribute 'int'.\n`np.int` was a deprecated alias for the builtin `int`. To avoid this error in existing code, use `int` by itself. Doing this will not modify any behavior and is safe. When replacing `np.int`, you may wish to use e.g. `np.int64` or `np.int32` to specify the precision. If you wish to review your current use, check the release note link for additional information.\nThe aliases was originally deprecated in NumPy 1.20; for more details and guidance see the original release note at:\n    https://numpy.org/devdocs/release/1.20.0-notes.html#deprecations"
     ]
    }
   ],
   "source": [
    "hyperparameters = {'num_iterations': [10, 15, 20, 25, 30,  35, 40, 45, 50],\n",
    "                   'max_tree_height': [1,2,3,4,5]}\n",
    "adaboost = MyAdaBoostTree()\n",
    "rf = BayesSearchCV(adaboost, hyperparameters, cv=2, verbose=2, random_state=42)\n",
    "rf.fit(X_train, y_train)\n",
    "print(f\"Mean cross-validated training accuracy score: {rf.best_score_}\\n\")\n",
    "print(f\"Best Estimator: {rf.best_estimator_}\\n\")\n",
    "print(f\"Best Hyperparameter Combination: {rf.best_params_}\\n\")\n",
    "print(f\"Validation Score: {rf.score(X_val, y_val)}\\n\")\n",
    "\n",
    "val_boost_tree_bayes = rf.score(X_val, y_val)"
   ]
  },
  {
   "cell_type": "code",
   "execution_count": null,
   "metadata": {},
   "outputs": [],
   "source": [
    "hyperparameters = {'num_iterations': [3, 5, 10, 15, 20, 25, 30, 35, 40,45, 50]}\n",
    "adaboost = MyAdaBoostLogistic()\n",
    "rs = BayesSearchCV(adaboost, hyperparameters, cv=2, verbose=2, random_state=42)\n",
    "rs.fit(X_train, y_train)\n",
    "print(f\"Mean cross-validated training accuracy score: {rs.best_score_}\\n\")\n",
    "print(f\"Best Estimator: {rs.best_estimator_}\\n\")\n",
    "print(f\"Best Hyperparameter Combination: {rs.best_params_}\\n\")\n",
    "print(f\"Validation Score: {rs.score(X_val, y_val)}\\n\")\n",
    "\n",
    "\n",
    "val_boost_logistic_bayes = rs.score(X_val, y_val)"
   ]
  },
  {
   "cell_type": "code",
   "execution_count": null,
   "metadata": {},
   "outputs": [],
   "source": [
    "#Hyperparameter tuning using Bayesian Search for Random Forest\n",
    "hyperparameters = {'num_trees': [10, 20, 50, 100, 200, 500],\n",
    "                    'max_height':[3, 5, 10], \n",
    "                    'max_features': [1,2,3,4,5]}\n",
    "forest = MyRandomForest()\n",
    "rs = BayesSearchCV(forest, hyperparameters, cv=2, verbose=2, random_state=42)\n",
    "rs.fit(X_train, y_train)\n",
    "print(f\"Mean cross-validated training accuracy score: {rs.best_score_}\\n\")\n",
    "print(f\"Best Estimator: {rs.best_estimator_}\\n\")\n",
    "print(f\"Best Hyperparameter Combination: {rs.best_params_}\\n\")\n",
    "print(f\"Validation Score: {rs.score(X_val, y_val)}\\n\")\n",
    "\n",
    "val_forest_bayes = rs.score(X_val, y_val)"
   ]
  },
  {
   "cell_type": "code",
   "execution_count": null,
   "metadata": {},
   "outputs": [],
   "source": [
    "#Hyperparameter tuning using Bayesian Search for Random Forest\n",
    "hyperparameters = {'num_trees': [10, 20, 50, 100, 200, 500],\n",
    "                    'max_height':[3, 5, 10]}\n",
    "bagging = MyBagging()\n",
    "rs = BayesSearchCV(bagging, hyperparameters, cv=2, verbose=2, random_state=42)\n",
    "rs.fit(X_train, y_train)\n",
    "print(f\"Mean cross-validated training accuracy score: {rs.best_score_}\\n\")\n",
    "print(f\"Best Estimator: {rs.best_estimator_}\\n\")\n",
    "print(f\"Best Hyperparameter Combination: {rs.best_params_}\\n\")\n",
    "print(f\"Validation Score: {rs.score(X_val, y_val)}\\n\")\n",
    "\n",
    "\n",
    "val_bagging_bayes = rs.score(X_val, y_val)"
   ]
  },
  {
   "cell_type": "markdown",
   "metadata": {},
   "source": [
    "### **Comparing Models**"
   ]
  },
  {
   "cell_type": "code",
   "execution_count": 57,
   "metadata": {},
   "outputs": [
    {
     "data": {
      "image/png": "[encoded data removed]",
      "text/plain": [
       "<Figure size 800x600 with 1 Axes>"
      ]
     },
     "metadata": {},
     "output_type": "display_data"
    },
    {
     "data": {
      "text/plain": [
       "<Figure size 640x480 with 0 Axes>"
      ]
     },
     "metadata": {},
     "output_type": "display_data"
    }
   ],
   "source": [
    "from matplotlib import pyplot as plt\n",
    "\n",
    "\n",
    "highest_boosting_tree = max(val_boost_tree_grid, val_boost_tree_rand)\n",
    "highest_boosting_logistic = max(val_boost_logistic_grid, val_boost_logistic_rand)\n",
    "highest_forest = max(val_forest_grid, val_forest_rand)\n",
    "highest_bagging = max(val_bagging_grid, val_bagging_rand)\n",
    "highest_bagging_knn = val_bagging_knn_grid\n",
    "\n",
    "\n",
    "model_names =  [\"Boosting (Trees)\", \"Boosting (Logistic)\", \"Random Forest\", \"Baggin (Trees)\", \"Baggin (KNN)\"]\n",
    "\n",
    "plt.figure(figsize=(8, 6))\n",
    "plt.bar(model_names, [highest_boosting_tree, highest_boosting_logistic, highest_forest, highest_bagging, highest_bagging_knn])\n",
    "plt.xlabel('Models')\n",
    "plt.ylabel('Max Validatio Accuracy')\n",
    "plt.title('Bar Chart with Features and Absolute Logistic Coefficients')\n",
    "plt.xticks(rotation=45)  \n",
    "plt.ylim(0.7, plt.ylim()[1]) \n",
    "plt.tight_layout()\n",
    "plt.show()\n",
    "plt.tight_layout()\n",
    "plt.show()\n"
   ]
  },
  {
   "cell_type": "markdown",
   "metadata": {},
   "source": [
    "## Performance On Test Data"
   ]
  },
  {
   "cell_type": "code",
   "execution_count": 59,
   "metadata": {},
   "outputs": [
    {
     "name": "stdout",
     "output_type": "stream",
     "text": [
      "Final Test Accuracy  0.7523546402109758\n"
     ]
    }
   ],
   "source": [
    "#Using Random Forest (Best Model)\n",
    "\n",
    "forest = MyRandomForest(num_trees= 200, max_height= 10, max_features= 4)\n",
    "\n",
    "forest.fit(X_train, y_train)\n",
    "\n",
    "\n",
    "final_test_accuracy = forest.score(X_test, y_test)\n",
    "\n",
    "print(\"Final Test Accuracy \", final_test_accuracy)\n",
    "\n"
   ]
  }
 ],
 "metadata": {
  "kernelspec": {
   "display_name": "Python 3",
   "language": "python",
   "name": "python3"
  },
  "language_info": {
   "codemirror_mode": {
    "name": "ipython",
    "version": 3
   },
   "file_extension": ".py",
   "mimetype": "text/x-python",
   "name": "python",
   "nbconvert_exporter": "python",
   "pygments_lexer": "ipython3",
   "version": "3.11.4"
  }
 },
 "nbformat": 4,
 "nbformat_minor": 2
}
